{
 "cells": [
  {
   "cell_type": "code",
   "execution_count": null,
   "metadata": {},
   "outputs": [],
   "source": [
    "import numpy as np\n",
    "import matplotlib.pylab as plt\n",
    "\n",
    "import lichen as lch"
   ]
  },
  {
   "cell_type": "markdown",
   "metadata": {},
   "source": [
    "# 1-D histograms"
   ]
  },
  {
   "cell_type": "code",
   "execution_count": null,
   "metadata": {},
   "outputs": [],
   "source": [
    "x = np.random.normal(5,1,10000)\n",
    "h = lch.hist(x,bins=50)"
   ]
  },
  {
   "cell_type": "code",
   "execution_count": null,
   "metadata": {},
   "outputs": [],
   "source": [
    "x = np.random.normal(5,1,10000)\n",
    "wts = np.random.random(10000)\n",
    "h = lch.hist(x,bins=50,weights=wts,range=(0,10))\n"
   ]
  },
  {
   "cell_type": "markdown",
   "metadata": {},
   "source": [
    "# 2-D histograms"
   ]
  },
  {
   "cell_type": "code",
   "execution_count": null,
   "metadata": {},
   "outputs": [],
   "source": [
    "mean = [0, 0]\n",
    "cov = [[1, 0], [0, 2]]  # diagonal covariance\n",
    "x, y = np.random.multivariate_normal(mean, cov, 50000).T\n",
    "\n",
    "plt.figure()\n",
    "h = lch.hist2d(x,y)\n"
   ]
  },
  {
   "cell_type": "code",
   "execution_count": null,
   "metadata": {},
   "outputs": [],
   "source": [
    "plt.figure()\n",
    "h = lch.hist2d(x,y,xbins=50,ybins=50,cmap=plt.cm.plasma)\n"
   ]
  },
  {
   "cell_type": "code",
   "execution_count": null,
   "metadata": {},
   "outputs": [],
   "source": [
    "plt.figure()\n",
    "h = lch.hist2d(x,y,xbins=50,ybins=50,xrange=(-2,2),yrange=(-2,2),cmap=plt.cm.gray)\n"
   ]
  },
  {
   "cell_type": "markdown",
   "metadata": {},
   "source": [
    "# Generate and fit data using scipy.optimize"
   ]
  },
  {
   "cell_type": "code",
   "execution_count": null,
   "metadata": {},
   "outputs": [],
   "source": [
    "import scipy.stats as stats\n",
    "\n",
    "from lichen.fit import Parameter,get_numbers,reset_parameters,pois,errfunc\n",
    "from lichen.fit import pretty_print_parameters,get_values_and_bounds,fit_emlm"
   ]
  },
  {
   "cell_type": "markdown",
   "metadata": {},
   "source": [
    "## Generate some test data: peak on background"
   ]
  },
  {
   "cell_type": "code",
   "execution_count": null,
   "metadata": {},
   "outputs": [],
   "source": [
    "npeak = 200\n",
    "nbkg = 400\n",
    "\n",
    "data = np.random.normal(5,0.2,npeak).tolist()\n",
    "data += (4*np.random.random(nbkg) + 3).tolist()\n",
    "\n",
    "plt.figure()\n",
    "lch.hist(data);"
   ]
  },
  {
   "cell_type": "markdown",
   "metadata": {},
   "source": [
    "## Fit using unbinned extended maximum likelihood\n",
    "\n",
    "### Create a dictionary of lichen Parameters\n",
    "\n",
    "Note that the dictionary entries have a key value that maps on to the PDF.\n",
    "\n",
    "Each of the PDF entries has it's own dictionary of lichen ```Parameter``` objects.\n",
    "\n",
    "The ```Parameter``` class just takes a starting value and a range to restrict the value during the fitting process. \n",
    "\n",
    "If you don't want to restrict the value, just put ```None``` for the range. "
   ]
  },
  {
   "cell_type": "code",
   "execution_count": null,
   "metadata": {},
   "outputs": [],
   "source": [
    "pars = {}\n",
    "pars[\"peak\"] = {\"number\":Parameter(300,(0,500)), \"mean\":Parameter(4.5,(4.0,6.0)), \"sigma\":Parameter(0.25,(0.10,0.5))}\n",
    "pars[\"bkg\"] = {\"number\":Parameter(300,(0,500))}"
   ]
  },
  {
   "cell_type": "markdown",
   "metadata": {},
   "source": [
    "## Define your PDF functions\n",
    "\n",
    "Your PDF functions must be normalized over the range you're fitting.\n",
    "\n",
    "Note that I've defined these with a ```frange``` kwd for \"function range\"."
   ]
  },
  {
   "cell_type": "code",
   "execution_count": null,
   "metadata": {},
   "outputs": [],
   "source": [
    "################################################################################\n",
    "def peak(pars, x, frange=None):\n",
    "\n",
    "    mean = pars[\"peak\"][\"mean\"].value\n",
    "    sigma = pars[\"peak\"][\"sigma\"].value\n",
    "\n",
    "    pdfvals = stats.norm(mean,sigma).pdf(x)\n",
    "\n",
    "    return pdfvals\n",
    "################################################################################\n",
    "\n",
    "################################################################################\n",
    "def background(x, frange=None):\n",
    "\n",
    "    # Flat\n",
    "    height = 1.0/(frange[1] - frange[0])\n",
    "\n",
    "    pdfvals = height*np.ones(len(x))\n",
    "\n",
    "    return pdfvals\n",
    "################################################################################\n",
    "\n",
    "################################################################################\n",
    "def pdf(pars,x,frange=None):\n",
    "\n",
    "    frange = (3,7) # Hard coded for now, but will change in the future\n",
    "    \n",
    "    npeak = pars[\"peak\"][\"number\"].value\n",
    "    nbkg = pars[\"bkg\"][\"number\"].value\n",
    "\n",
    "    ntot = float(npeak + nbkg)\n",
    "\n",
    "    bkg = background(x,frange=frange)\n",
    "    p0 = peak(pars,x,frange=frange)\n",
    "\n",
    "\n",
    "    totpdf = (npeak/ntot)*p0 + (nbkg/ntot)*bkg\n",
    "\n",
    "    return totpdf\n",
    "################################################################################\n",
    "\n"
   ]
  },
  {
   "cell_type": "markdown",
   "metadata": {},
   "source": [
    "## Run the fit!\n",
    "\n",
    "The initial values of the parameters will be whatever the ```Parameter``` objects were initialized to.\n",
    "\n",
    "*Warning! If you re-run the cell below, you will want to re-run the cell that defined the ```pars``` dictionary if you want to get back to the starting values. The parameters were updated during the fit process.*"
   ]
  },
  {
   "cell_type": "code",
   "execution_count": null,
   "metadata": {},
   "outputs": [],
   "source": [
    "initvals,finalvals = fit_emlm(pdf,pars,[data],verbose=False)\n",
    "\n",
    "print(\"Done with fit!\")\n",
    "print()\n",
    "\n",
    "pretty_print_parameters(pars)\n"
   ]
  },
  {
   "cell_type": "markdown",
   "metadata": {},
   "source": [
    "## Plot the results on the data"
   ]
  },
  {
   "cell_type": "code",
   "execution_count": null,
   "metadata": {},
   "outputs": [],
   "source": [
    "# Plot the data\n",
    "plt.figure()\n",
    "lch.hist(data,bins=50);\n",
    "\n",
    "\n",
    "# Plot the PDFs\n",
    "xpts = np.linspace(3,7,1000)\n",
    "binwidth=(4/50)\n",
    "\n",
    "ysig = pars['peak']['number'].value * peak(pars,xpts) * binwidth\n",
    "plt.plot(xpts,ysig,linewidth=3,label='signal')\n",
    "\n",
    "ybkg = pars['bkg']['number'].value * background(xpts,frange=(3,7)) * binwidth\n",
    "plt.plot(xpts,ybkg,'--',linewidth=3,label='background')\n",
    "\n",
    "ytot = ysig + ybkg\n",
    "plt.plot(xpts,ytot,linewidth=3,label='total pdf')\n",
    "\n",
    "plt.legend()"
   ]
  },
  {
   "cell_type": "code",
   "execution_count": null,
   "metadata": {},
   "outputs": [],
   "source": []
  }
 ],
 "metadata": {
  "kernelspec": {
   "display_name": "Python 3",
   "language": "python",
   "name": "python3"
  },
  "language_info": {
   "codemirror_mode": {
    "name": "ipython",
    "version": 3
   },
   "file_extension": ".py",
   "mimetype": "text/x-python",
   "name": "python",
   "nbconvert_exporter": "python",
   "pygments_lexer": "ipython3",
   "version": "3.6.8"
  }
 },
 "nbformat": 4,
 "nbformat_minor": 2
}
